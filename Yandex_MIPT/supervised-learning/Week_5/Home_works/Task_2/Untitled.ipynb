{
 "cells": [
  {
   "cell_type": "code",
   "execution_count": 33,
   "metadata": {
    "collapsed": false
   },
   "outputs": [],
   "source": [
    "from sklearn import datasets, cross_validation, naive_bayes\n",
    "\n",
    "import numpy as np"
   ]
  },
  {
   "cell_type": "markdown",
   "metadata": {},
   "source": [
    "# 1) Загрузим датасеты digits и breast_cancer из sklearn.datasets. Выведем несколько строчек из обучающих выборок и посмотрим на признаки"
   ]
  },
  {
   "cell_type": "code",
   "execution_count": 34,
   "metadata": {
    "collapsed": true
   },
   "outputs": [],
   "source": [
    "digits = datasets.load_digits()\n",
    "\n",
    "breast_cancer = datasets.load_breast_cancer()"
   ]
  },
  {
   "cell_type": "code",
   "execution_count": 35,
   "metadata": {
    "collapsed": false
   },
   "outputs": [
    {
     "data": {
      "text/plain": [
       "array([[  0.,   0.,   5.,  13.,   9.,   1.,   0.,   0.,   0.,   0.,  13.,\n",
       "         15.,  10.,  15.,   5.,   0.,   0.,   3.,  15.,   2.,   0.,  11.,\n",
       "          8.,   0.,   0.,   4.,  12.,   0.,   0.,   8.,   8.,   0.,   0.,\n",
       "          5.,   8.,   0.,   0.,   9.,   8.,   0.,   0.,   4.,  11.,   0.,\n",
       "          1.,  12.,   7.,   0.,   0.,   2.,  14.,   5.,  10.,  12.,   0.,\n",
       "          0.,   0.,   0.,   6.,  13.,  10.,   0.,   0.,   0.],\n",
       "       [  0.,   0.,   0.,  12.,  13.,   5.,   0.,   0.,   0.,   0.,   0.,\n",
       "         11.,  16.,   9.,   0.,   0.,   0.,   0.,   3.,  15.,  16.,   6.,\n",
       "          0.,   0.,   0.,   7.,  15.,  16.,  16.,   2.,   0.,   0.,   0.,\n",
       "          0.,   1.,  16.,  16.,   3.,   0.,   0.,   0.,   0.,   1.,  16.,\n",
       "         16.,   6.,   0.,   0.,   0.,   0.,   1.,  16.,  16.,   6.,   0.,\n",
       "          0.,   0.,   0.,   0.,  11.,  16.,  10.,   0.,   0.],\n",
       "       [  0.,   0.,   0.,   4.,  15.,  12.,   0.,   0.,   0.,   0.,   3.,\n",
       "         16.,  15.,  14.,   0.,   0.,   0.,   0.,   8.,  13.,   8.,  16.,\n",
       "          0.,   0.,   0.,   0.,   1.,   6.,  15.,  11.,   0.,   0.,   0.,\n",
       "          1.,   8.,  13.,  15.,   1.,   0.,   0.,   0.,   9.,  16.,  16.,\n",
       "          5.,   0.,   0.,   0.,   0.,   3.,  13.,  16.,  16.,  11.,   5.,\n",
       "          0.,   0.,   0.,   0.,   3.,  11.,  16.,   9.,   0.]])"
      ]
     },
     "execution_count": 35,
     "metadata": {},
     "output_type": "execute_result"
    }
   ],
   "source": [
    "digits.data[:3]"
   ]
  },
  {
   "cell_type": "code",
   "execution_count": 36,
   "metadata": {
    "collapsed": false
   },
   "outputs": [
    {
     "data": {
      "text/plain": [
       "array([[  1.79900000e+01,   1.03800000e+01,   1.22800000e+02,\n",
       "          1.00100000e+03,   1.18400000e-01,   2.77600000e-01,\n",
       "          3.00100000e-01,   1.47100000e-01,   2.41900000e-01,\n",
       "          7.87100000e-02,   1.09500000e+00,   9.05300000e-01,\n",
       "          8.58900000e+00,   1.53400000e+02,   6.39900000e-03,\n",
       "          4.90400000e-02,   5.37300000e-02,   1.58700000e-02,\n",
       "          3.00300000e-02,   6.19300000e-03,   2.53800000e+01,\n",
       "          1.73300000e+01,   1.84600000e+02,   2.01900000e+03,\n",
       "          1.62200000e-01,   6.65600000e-01,   7.11900000e-01,\n",
       "          2.65400000e-01,   4.60100000e-01,   1.18900000e-01],\n",
       "       [  2.05700000e+01,   1.77700000e+01,   1.32900000e+02,\n",
       "          1.32600000e+03,   8.47400000e-02,   7.86400000e-02,\n",
       "          8.69000000e-02,   7.01700000e-02,   1.81200000e-01,\n",
       "          5.66700000e-02,   5.43500000e-01,   7.33900000e-01,\n",
       "          3.39800000e+00,   7.40800000e+01,   5.22500000e-03,\n",
       "          1.30800000e-02,   1.86000000e-02,   1.34000000e-02,\n",
       "          1.38900000e-02,   3.53200000e-03,   2.49900000e+01,\n",
       "          2.34100000e+01,   1.58800000e+02,   1.95600000e+03,\n",
       "          1.23800000e-01,   1.86600000e-01,   2.41600000e-01,\n",
       "          1.86000000e-01,   2.75000000e-01,   8.90200000e-02],\n",
       "       [  1.96900000e+01,   2.12500000e+01,   1.30000000e+02,\n",
       "          1.20300000e+03,   1.09600000e-01,   1.59900000e-01,\n",
       "          1.97400000e-01,   1.27900000e-01,   2.06900000e-01,\n",
       "          5.99900000e-02,   7.45600000e-01,   7.86900000e-01,\n",
       "          4.58500000e+00,   9.40300000e+01,   6.15000000e-03,\n",
       "          4.00600000e-02,   3.83200000e-02,   2.05800000e-02,\n",
       "          2.25000000e-02,   4.57100000e-03,   2.35700000e+01,\n",
       "          2.55300000e+01,   1.52500000e+02,   1.70900000e+03,\n",
       "          1.44400000e-01,   4.24500000e-01,   4.50400000e-01,\n",
       "          2.43000000e-01,   3.61300000e-01,   8.75800000e-02]])"
      ]
     },
     "execution_count": 36,
     "metadata": {},
     "output_type": "execute_result"
    }
   ],
   "source": [
    "breast_cancer.data[:3]"
   ]
  },
  {
   "cell_type": "markdown",
   "metadata": {},
   "source": [
    "# 2) Попробуем BernoulliNB"
   ]
  },
  {
   "cell_type": "code",
   "execution_count": 37,
   "metadata": {
    "collapsed": false
   },
   "outputs": [],
   "source": [
    "digits_Bernoulli = cross_validation.cross_val_score(naive_bayes.BernoulliNB(), X=digits.data, y=digits.target)"
   ]
  },
  {
   "cell_type": "code",
   "execution_count": 38,
   "metadata": {
    "collapsed": false
   },
   "outputs": [
    {
     "name": "stdout",
     "output_type": "stream",
     "text": [
      "0.825823650778\n"
     ]
    }
   ],
   "source": [
    "print digits_Bernoulli.mean()"
   ]
  },
  {
   "cell_type": "code",
   "execution_count": 39,
   "metadata": {
    "collapsed": true
   },
   "outputs": [],
   "source": [
    "breast_cancer_Bernoulli = cross_validation.cross_val_score(naive_bayes.BernoulliNB(), X=breast_cancer.data,\n",
    "                                                           y=breast_cancer.target)"
   ]
  },
  {
   "cell_type": "code",
   "execution_count": 40,
   "metadata": {
    "collapsed": false
   },
   "outputs": [
    {
     "name": "stdout",
     "output_type": "stream",
     "text": [
      "0.627420402859\n"
     ]
    }
   ],
   "source": [
    "print breast_cancer_Bernoulli.mean()"
   ]
  },
  {
   "cell_type": "markdown",
   "metadata": {},
   "source": [
    "# 3) MultinomialN"
   ]
  },
  {
   "cell_type": "code",
   "execution_count": 41,
   "metadata": {
    "collapsed": true
   },
   "outputs": [],
   "source": [
    "digits_Multinomial = cross_validation.cross_val_score(naive_bayes.MultinomialNB(), X=digits.data, y=digits.target)"
   ]
  },
  {
   "cell_type": "code",
   "execution_count": 42,
   "metadata": {
    "collapsed": false
   },
   "outputs": [
    {
     "name": "stdout",
     "output_type": "stream",
     "text": [
      "0.870877148974\n"
     ]
    }
   ],
   "source": [
    "print digits_Multinomial.mean()"
   ]
  },
  {
   "cell_type": "code",
   "execution_count": 43,
   "metadata": {
    "collapsed": true
   },
   "outputs": [],
   "source": [
    "breast_cancer_Multinomial = cross_validation.cross_val_score(naive_bayes.MultinomialNB(), X=breast_cancer.data,\n",
    "                                                           y=breast_cancer.target)"
   ]
  },
  {
   "cell_type": "code",
   "execution_count": 44,
   "metadata": {
    "collapsed": false
   },
   "outputs": [
    {
     "name": "stdout",
     "output_type": "stream",
     "text": [
      "0.894579040193\n"
     ]
    }
   ],
   "source": [
    "print breast_cancer_Multinomial.mean()"
   ]
  },
  {
   "cell_type": "markdown",
   "metadata": {},
   "source": [
    "# 4) GaussianNB"
   ]
  },
  {
   "cell_type": "code",
   "execution_count": 45,
   "metadata": {
    "collapsed": true
   },
   "outputs": [],
   "source": [
    "digits_Gaussian = cross_validation.cross_val_score(naive_bayes.GaussianNB(), X=digits.data, y=digits.target)"
   ]
  },
  {
   "cell_type": "code",
   "execution_count": 46,
   "metadata": {
    "collapsed": false
   },
   "outputs": [
    {
     "data": {
      "text/plain": [
       "0.81860038035501381"
      ]
     },
     "execution_count": 46,
     "metadata": {},
     "output_type": "execute_result"
    }
   ],
   "source": [
    "digits_Gaussian.mean()"
   ]
  },
  {
   "cell_type": "code",
   "execution_count": 47,
   "metadata": {
    "collapsed": true
   },
   "outputs": [],
   "source": [
    "breast_cancer_Gaussian = cross_validation.cross_val_score(naive_bayes.GaussianNB(), X=breast_cancer.data,\n",
    "                                                           y=breast_cancer.target)"
   ]
  },
  {
   "cell_type": "code",
   "execution_count": 49,
   "metadata": {
    "collapsed": false
   },
   "outputs": [
    {
     "data": {
      "text/plain": [
       "0.9367492806089297"
      ]
     },
     "execution_count": 49,
     "metadata": {},
     "output_type": "execute_result"
    }
   ],
   "source": [
    "breast_cancer_Gaussian.mean()"
   ]
  },
  {
   "cell_type": "markdown",
   "metadata": {},
   "source": [
    "# Вопрос 1\n",
    "Каким получилось максимальное качество классификации на датасете breast_cancer?"
   ]
  },
  {
   "cell_type": "code",
   "execution_count": 51,
   "metadata": {
    "collapsed": false
   },
   "outputs": [
    {
     "name": "stdout",
     "output_type": "stream",
     "text": [
      "0.936749280609\n"
     ]
    }
   ],
   "source": [
    "breast_cancer_max = max(breast_cancer_Bernoulli.mean(), breast_cancer_Gaussian.mean(), breast_cancer_Multinomial.mean())\n",
    "\n",
    "with open(\"NB_answer1.txt\", \"w\") as fout:\n",
    "    fout.write(str(breast_cancer_max))\n",
    "    print breast_cancer_max"
   ]
  },
  {
   "cell_type": "markdown",
   "metadata": {},
   "source": [
    "# Вопрос 2\n",
    "Каким получилось максимальное качество классификации на датасете digits?"
   ]
  },
  {
   "cell_type": "code",
   "execution_count": 52,
   "metadata": {
    "collapsed": false
   },
   "outputs": [
    {
     "name": "stdout",
     "output_type": "stream",
     "text": [
      "0.870877148974\n"
     ]
    }
   ],
   "source": [
    "digits_max = max(digits_Bernoulli.mean(), digits_Gaussian.mean(), digits_Multinomial.mean())\n",
    "\n",
    "with open(\"NB_answer2.txt\", \"w\") as fout:\n",
    "    fout.write(str(digits_max))\n",
    "    print digits_max"
   ]
  },
  {
   "cell_type": "markdown",
   "metadata": {},
   "source": [
    "# Вопрос 3\n",
    "Выберите верные утверждения и запишите их номера через пробел (в порядке возрастания номера):\n",
    "\n",
    "1) На вещественных признаках лучше всего сработал наивный байесовский классификатор с распределением Бернулли\n",
    "\n",
    "2) На вещественных признаках лучше всего сработал наивный байесовский классификатор с мультиномиальным распределением\n",
    "\n",
    "3) Мультиномиальное распределение лучше показало себя на выборке с целыми неотрицательными значениями признаков\n",
    "\n",
    "4) На вещественных признаках лучше всего сработало нормальное распределение"
   ]
  },
  {
   "cell_type": "code",
   "execution_count": 54,
   "metadata": {
    "collapsed": true
   },
   "outputs": [],
   "source": [
    "array = [3, 4]\n",
    "\n",
    "with open(\"NB_answer3.txt\", \"w\") as fout:\n",
    "    fout.write(str(array))"
   ]
  }
 ],
 "metadata": {
  "kernelspec": {
   "display_name": "Python 2",
   "language": "python",
   "name": "python2"
  },
  "language_info": {
   "codemirror_mode": {
    "name": "ipython",
    "version": 2
   },
   "file_extension": ".py",
   "mimetype": "text/x-python",
   "name": "python",
   "nbconvert_exporter": "python",
   "pygments_lexer": "ipython2",
   "version": "2.7.12"
  }
 },
 "nbformat": 4,
 "nbformat_minor": 0
}
